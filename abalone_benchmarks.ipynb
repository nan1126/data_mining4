{
 "cells": [
  {
   "cell_type": "markdown",
   "metadata": {},
   "source": [
    "# 吴楠楠    3220190895"
   ]
  },
  {
   "cell_type": "markdown",
   "metadata": {},
   "source": [
    "## 选取的数据集：abalone\n",
    "### 1 导入必须的包"
   ]
  },
  {
   "cell_type": "code",
   "execution_count": 1,
   "metadata": {},
   "outputs": [],
   "source": [
    "import warnings\n",
    "warnings.filterwarnings(\"ignore\")\n",
    "import csv\n",
    "import os\n",
    "import numpy as np\n",
    "import pandas as pd\n",
    "from sklearn.model_selection import train_test_split\n",
    "\n",
    "from pyod.models.feature_bagging import FeatureBagging\n",
    "from pyod.models.hbos import HBOS\n",
    "from pyod.models.iforest import IForest\n",
    "from pyod.models.knn import KNN\n",
    "from pyod.models.lof import LOF\n",
    "\n",
    "from pyod.utils.data import evaluate_print\n",
    "from pyod.utils.example import visualize\n",
    "from pyod.utils.utility import precision_n_scores\n",
    "from sklearn.metrics import roc_auc_score"
   ]
  },
  {
   "cell_type": "markdown",
   "metadata": {},
   "source": [
    "### 2 训练过程\n",
    "#### 2.1 选取了pyod工具库中五中离群点分析的方法（Feature Bagging,Histogram-base Outlier Detection (HBOS),Isolation Forest, K Nearest Neighbors (KNN),Local Outlier Factor (LOF)）。\n",
    "#### 2.2 对于wine数据集中所有的benchmarks数据按照训练集：测试集 = 0.6：0.4的划分方式逐一进行训练。\n",
    "#### 2.3 将测试结果：roc和precision @ rank n存储再result中，后续进行分析。\n",
    "### 注意\n",
    "由于部分数据集中异常值分布极度不均匀，由此计算出的roc和precision @ rank n值过于低，因此此类数据按照异常状况处理，不再计入最终结果。"
   ]
  },
  {
   "cell_type": "code",
   "execution_count": 2,
   "metadata": {},
   "outputs": [],
   "source": [
    "Folder_Path = r'D:\\python\\data\\abalone_benchmarks'      \n",
    "classifiers = {\n",
    "        'Feature Bagging': FeatureBagging(),\n",
    "        'Histogram-base Outlier Detection (HBOS)': HBOS(),\n",
    "        'Isolation Forest': IForest(),\n",
    "        'K Nearest Neighbors (KNN)': KNN(),\n",
    "        'Local Outlier Factor (LOF)': LOF()\n",
    "    }\n",
    "result_roc = pd.DataFrame(data=None,columns=['Feature Bagging','Histogram-base Outlier Detection (HBOS)','Isolation Forest', \n",
    "                                             'K Nearest Neighbors (KNN)', 'Local Outlier Factor (LOF)'],index = range(1725))\n",
    "result_rank_n = pd.DataFrame(data=None,columns=['Feature Bagging','Histogram-base Outlier Detection (HBOS)','Isolation Forest', \n",
    "                                             'K Nearest Neighbors (KNN)', 'Local Outlier Factor (LOF)'],index = range(1725))\n",
    "for m in range(1725):\n",
    "    os.chdir(Folder_Path)\n",
    "    file_list = os.listdir()\n",
    "    fill_df = pd.read_csv(Folder_Path +'\\\\'+ file_list[m])  \n",
    "    quant_cols = list(fill_df.select_dtypes(include=['int64','float64']))\n",
    "    quant_cols = [x for x in quant_cols if x == 'V1' or x == 'V2' or x == 'V3' or x == 'V4' or x == 'V5' or x == 'V6' or x == 'V7']\n",
    "    X = fill_df[quant_cols]\n",
    "    fill_df['label'] = 'NA'\n",
    "    for i in range(len(fill_df)):\n",
    "        if fill_df['ground.truth'][i] == 'anomaly':\n",
    "            fill_df['label'][i] = 1\n",
    "        elif fill_df['ground.truth'][i] == 'nominal':\n",
    "            fill_df['label'][i] = 0\n",
    "    Y = pd.DataFrame(fill_df['label'],dtype=np.int)\n",
    "    X_train,X_test,y_train,y_test= train_test_split(X, Y, test_size=0.4)\n",
    "    p = y_train.max()\n",
    "    q = y_test.max()\n",
    "    if p[0] == 0 or q[0] == 0:\n",
    "        continue\n",
    "    for clf_name, clf in classifiers.items():\n",
    "        clf.fit(X_train)\n",
    "        y_train_pred = clf.labels_  \n",
    "        y_train_scores = clf.decision_scores_  \n",
    "        \n",
    "        y_test_pred = clf.predict(X_test) \n",
    "        y_test_scores = clf.decision_function(X_test)  \n",
    "        roc = round(roc_auc_score(y_test, y_test_scores), ndigits=4)\n",
    "        prn = round(precision_n_scores(y_test, y_test_scores), ndigits=4)\n",
    "        if roc > 0.1:\n",
    "            result_roc[clf_name][m] = roc\n",
    "        if prn > 0.1:\n",
    "            result_rank_n[clf_name][m] = prn"
   ]
  },
  {
   "cell_type": "markdown",
   "metadata": {},
   "source": [
    "### 3 测试结果\n",
    "3.1 五种训练方式对应的roc值"
   ]
  },
  {
   "cell_type": "code",
   "execution_count": 3,
   "metadata": {},
   "outputs": [
    {
     "data": {
      "text/html": [
       "<div>\n",
       "<style scoped>\n",
       "    .dataframe tbody tr th:only-of-type {\n",
       "        vertical-align: middle;\n",
       "    }\n",
       "\n",
       "    .dataframe tbody tr th {\n",
       "        vertical-align: top;\n",
       "    }\n",
       "\n",
       "    .dataframe thead th {\n",
       "        text-align: right;\n",
       "    }\n",
       "</style>\n",
       "<table border=\"1\" class=\"dataframe\">\n",
       "  <thead>\n",
       "    <tr style=\"text-align: right;\">\n",
       "      <th></th>\n",
       "      <th>Feature Bagging</th>\n",
       "      <th>Histogram-base Outlier Detection (HBOS)</th>\n",
       "      <th>Isolation Forest</th>\n",
       "      <th>K Nearest Neighbors (KNN)</th>\n",
       "      <th>Local Outlier Factor (LOF)</th>\n",
       "    </tr>\n",
       "  </thead>\n",
       "  <tbody>\n",
       "    <tr>\n",
       "      <th>0</th>\n",
       "      <td>0.5517</td>\n",
       "      <td>0.4757</td>\n",
       "      <td>0.5045</td>\n",
       "      <td>0.7607</td>\n",
       "      <td>0.5443</td>\n",
       "    </tr>\n",
       "    <tr>\n",
       "      <th>1</th>\n",
       "      <td>0.5721</td>\n",
       "      <td>0.4851</td>\n",
       "      <td>0.4624</td>\n",
       "      <td>0.7546</td>\n",
       "      <td>0.5882</td>\n",
       "    </tr>\n",
       "    <tr>\n",
       "      <th>2</th>\n",
       "      <td>0.5632</td>\n",
       "      <td>0.4486</td>\n",
       "      <td>0.4455</td>\n",
       "      <td>0.7392</td>\n",
       "      <td>0.5661</td>\n",
       "    </tr>\n",
       "    <tr>\n",
       "      <th>3</th>\n",
       "      <td>0.5701</td>\n",
       "      <td>0.491</td>\n",
       "      <td>0.4951</td>\n",
       "      <td>0.7766</td>\n",
       "      <td>0.5818</td>\n",
       "    </tr>\n",
       "    <tr>\n",
       "      <th>4</th>\n",
       "      <td>0.6094</td>\n",
       "      <td>0.4895</td>\n",
       "      <td>0.4815</td>\n",
       "      <td>0.7696</td>\n",
       "      <td>0.6139</td>\n",
       "    </tr>\n",
       "  </tbody>\n",
       "</table>\n",
       "</div>"
      ],
      "text/plain": [
       "  Feature Bagging Histogram-base Outlier Detection (HBOS) Isolation Forest  \\\n",
       "0          0.5517                                  0.4757           0.5045   \n",
       "1          0.5721                                  0.4851           0.4624   \n",
       "2          0.5632                                  0.4486           0.4455   \n",
       "3          0.5701                                   0.491           0.4951   \n",
       "4          0.6094                                  0.4895           0.4815   \n",
       "\n",
       "  K Nearest Neighbors (KNN) Local Outlier Factor (LOF)  \n",
       "0                    0.7607                     0.5443  \n",
       "1                    0.7546                     0.5882  \n",
       "2                    0.7392                     0.5661  \n",
       "3                    0.7766                     0.5818  \n",
       "4                    0.7696                     0.6139  "
      ]
     },
     "execution_count": 3,
     "metadata": {},
     "output_type": "execute_result"
    }
   ],
   "source": [
    "result_roc.head()"
   ]
  },
  {
   "cell_type": "markdown",
   "metadata": {},
   "source": [
    "3.2 五种训练方式对应的precision @ rank n值"
   ]
  },
  {
   "cell_type": "code",
   "execution_count": 4,
   "metadata": {},
   "outputs": [
    {
     "data": {
      "text/html": [
       "<div>\n",
       "<style scoped>\n",
       "    .dataframe tbody tr th:only-of-type {\n",
       "        vertical-align: middle;\n",
       "    }\n",
       "\n",
       "    .dataframe tbody tr th {\n",
       "        vertical-align: top;\n",
       "    }\n",
       "\n",
       "    .dataframe thead th {\n",
       "        text-align: right;\n",
       "    }\n",
       "</style>\n",
       "<table border=\"1\" class=\"dataframe\">\n",
       "  <thead>\n",
       "    <tr style=\"text-align: right;\">\n",
       "      <th></th>\n",
       "      <th>Feature Bagging</th>\n",
       "      <th>Histogram-base Outlier Detection (HBOS)</th>\n",
       "      <th>Isolation Forest</th>\n",
       "      <th>K Nearest Neighbors (KNN)</th>\n",
       "      <th>Local Outlier Factor (LOF)</th>\n",
       "    </tr>\n",
       "  </thead>\n",
       "  <tbody>\n",
       "    <tr>\n",
       "      <th>0</th>\n",
       "      <td>0.5099</td>\n",
       "      <td>0.4181</td>\n",
       "      <td>0.4476</td>\n",
       "      <td>0.6827</td>\n",
       "      <td>0.5042</td>\n",
       "    </tr>\n",
       "    <tr>\n",
       "      <th>1</th>\n",
       "      <td>0.561</td>\n",
       "      <td>0.5039</td>\n",
       "      <td>0.4909</td>\n",
       "      <td>0.6961</td>\n",
       "      <td>0.5896</td>\n",
       "    </tr>\n",
       "    <tr>\n",
       "      <th>2</th>\n",
       "      <td>0.5642</td>\n",
       "      <td>0.4899</td>\n",
       "      <td>0.4861</td>\n",
       "      <td>0.6776</td>\n",
       "      <td>0.5668</td>\n",
       "    </tr>\n",
       "    <tr>\n",
       "      <th>3</th>\n",
       "      <td>0.5404</td>\n",
       "      <td>0.4525</td>\n",
       "      <td>0.4735</td>\n",
       "      <td>0.6769</td>\n",
       "      <td>0.532</td>\n",
       "    </tr>\n",
       "    <tr>\n",
       "      <th>4</th>\n",
       "      <td>0.586</td>\n",
       "      <td>0.4592</td>\n",
       "      <td>0.4839</td>\n",
       "      <td>0.6855</td>\n",
       "      <td>0.5941</td>\n",
       "    </tr>\n",
       "  </tbody>\n",
       "</table>\n",
       "</div>"
      ],
      "text/plain": [
       "  Feature Bagging Histogram-base Outlier Detection (HBOS) Isolation Forest  \\\n",
       "0          0.5099                                  0.4181           0.4476   \n",
       "1           0.561                                  0.5039           0.4909   \n",
       "2          0.5642                                  0.4899           0.4861   \n",
       "3          0.5404                                  0.4525           0.4735   \n",
       "4           0.586                                  0.4592           0.4839   \n",
       "\n",
       "  K Nearest Neighbors (KNN) Local Outlier Factor (LOF)  \n",
       "0                    0.6827                     0.5042  \n",
       "1                    0.6961                     0.5896  \n",
       "2                    0.6776                     0.5668  \n",
       "3                    0.6769                      0.532  \n",
       "4                    0.6855                     0.5941  "
      ]
     },
     "execution_count": 4,
     "metadata": {},
     "output_type": "execute_result"
    }
   ],
   "source": [
    "result_rank_n.head()"
   ]
  },
  {
   "cell_type": "markdown",
   "metadata": {},
   "source": [
    "### 4 评价\n",
    "对1725个benchmarks数据测试得到的roc和precision @ rank n值取平均（考虑在不同数据情况下，该方法的性能如何）。\n",
    "综合比较发现，KNN的处理效果更好一点，该方法下得到的roc和precision @ rank n值都较高。效果较差一点的为Feature Bagging。"
   ]
  },
  {
   "cell_type": "code",
   "execution_count": 5,
   "metadata": {},
   "outputs": [
    {
     "data": {
      "text/plain": [
       "Feature Bagging                            0.644983\n",
       "Histogram-base Outlier Detection (HBOS)    0.719859\n",
       "Isolation Forest                           0.681958\n",
       "K Nearest Neighbors (KNN)                  0.747502\n",
       "Local Outlier Factor (LOF)                 0.643861\n",
       "dtype: float64"
      ]
     },
     "execution_count": 5,
     "metadata": {},
     "output_type": "execute_result"
    }
   ],
   "source": [
    "roc = pd.DataFrame(result_roc,dtype=np.float)\n",
    "roc.mean()"
   ]
  },
  {
   "cell_type": "code",
   "execution_count": 6,
   "metadata": {},
   "outputs": [
    {
     "data": {
      "text/plain": [
       "Feature Bagging                            0.411865\n",
       "Histogram-base Outlier Detection (HBOS)    0.446966\n",
       "Isolation Forest                           0.409831\n",
       "K Nearest Neighbors (KNN)                  0.534999\n",
       "Local Outlier Factor (LOF)                 0.417280\n",
       "dtype: float64"
      ]
     },
     "execution_count": 6,
     "metadata": {},
     "output_type": "execute_result"
    }
   ],
   "source": [
    "rank_n = pd.DataFrame(result_rank_n,dtype=np.float)\n",
    "rank_n.mean()"
   ]
  },
  {
   "cell_type": "markdown",
   "metadata": {},
   "source": [
    "将五种方法得到的测试结果绘制直方图"
   ]
  },
  {
   "cell_type": "code",
   "execution_count": 7,
   "metadata": {},
   "outputs": [
    {
     "data": {
      "text/plain": [
       "<matplotlib.axes._subplots.AxesSubplot at 0x14b4eb01788>"
      ]
     },
     "execution_count": 7,
     "metadata": {},
     "output_type": "execute_result"
    },
    {
     "data": {
      "image/png": "[encoded data removed]",
      "text/plain": [
       "<Figure size 1152x576 with 10 Axes>"
      ]
     },
     "metadata": {
      "needs_background": "light"
     },
     "output_type": "display_data"
    }
   ],
   "source": [
    "import matplotlib.pyplot as plt\n",
    "plt.figure(figsize=(16, 8))\n",
    "#直方图\n",
    "plt.subplot(2,5,1)\n",
    "plt.title(\"Feature Bagging roc\")\n",
    "roc['Feature Bagging'].hist(alpha=0.5,bins=15)\n",
    "plt.subplot(2,5,2)\n",
    "plt.title(\"HBOS roc\")\n",
    "roc['Histogram-base Outlier Detection (HBOS)'].hist(alpha=0.5,bins=15)\n",
    "plt.subplot(2,5,3)\n",
    "plt.title(\"Isolation Forest roc\")\n",
    "roc['Isolation Forest'].hist(alpha=0.5,bins=15)\n",
    "plt.subplot(2,5,4)\n",
    "plt.title(\"KNN roc\")\n",
    "roc['K Nearest Neighbors (KNN)'].hist(alpha=0.5,bins=15)\n",
    "plt.subplot(2,5,5)\n",
    "plt.title(\"LOF roc\")\n",
    "roc['Local Outlier Factor (LOF)'].hist(alpha=0.5,bins=15)\n",
    "\n",
    "plt.subplot(2,5,6)\n",
    "plt.title(\"Feature Bagging prn\")\n",
    "rank_n['Feature Bagging'].hist(alpha=0.5,bins=15)\n",
    "plt.subplot(2,5,7)\n",
    "plt.title(\"HOBS prn\")\n",
    "rank_n['Histogram-base Outlier Detection (HBOS)'].hist(alpha=0.5,bins=15)\n",
    "plt.subplot(2,5,8)\n",
    "plt.title(\"Isolation Forest prn\")\n",
    "rank_n['Isolation Forest'].hist(alpha=0.5,bins=15)\n",
    "plt.subplot(2,5,9)\n",
    "plt.title(\"KNN prn\")\n",
    "rank_n['K Nearest Neighbors (KNN)'].hist(alpha=0.5,bins=15)\n",
    "plt.subplot(2,5,10)\n",
    "plt.title(\"LOF prn\")\n",
    "rank_n['Local Outlier Factor (LOF)'].hist(alpha=0.5,bins=15)"
   ]
  }
 ],
 "metadata": {
  "kernelspec": {
   "display_name": "Python 3",
   "language": "python",
   "name": "python3"
  },
  "language_info": {
   "codemirror_mode": {
    "name": "ipython",
    "version": 3
   },
   "file_extension": ".py",
   "mimetype": "text/x-python",
   "name": "python",
   "nbconvert_exporter": "python",
   "pygments_lexer": "ipython3",
   "version": "3.7.4"
  }
 },
 "nbformat": 4,
 "nbformat_minor": 4
}
