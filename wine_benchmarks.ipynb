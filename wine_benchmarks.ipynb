{
 "cells": [
  {
   "cell_type": "markdown",
   "metadata": {},
   "source": [
    "# 吴楠楠    3220190895"
   ]
  },
  {
   "cell_type": "markdown",
   "metadata": {},
   "source": [
    "## 选取的数据集：wine\n",
    "### 1 导入必须的包"
   ]
  },
  {
   "cell_type": "code",
   "execution_count": 1,
   "metadata": {},
   "outputs": [],
   "source": [
    "import warnings\n",
    "warnings.filterwarnings(\"ignore\")\n",
    "import csv\n",
    "import os\n",
    "import numpy as np\n",
    "import pandas as pd\n",
    "import matplotlib.pyplot as plt\n",
    "from sklearn.model_selection import train_test_split\n",
    "\n",
    "from pyod.models.feature_bagging import FeatureBagging\n",
    "from pyod.models.hbos import HBOS\n",
    "from pyod.models.iforest import IForest\n",
    "from pyod.models.knn import KNN\n",
    "from pyod.models.lof import LOF\n",
    "\n",
    "from pyod.utils.data import evaluate_print\n",
    "from pyod.utils.example import visualize\n",
    "from pyod.utils.utility import precision_n_scores\n",
    "from sklearn.metrics import roc_auc_score"
   ]
  },
  {
   "cell_type": "markdown",
   "metadata": {},
   "source": [
    "### 2 训练过程\n",
    "#### 2.1 选取了pyod工具库中五中离群点分析的方法（Feature Bagging,Histogram-base Outlier Detection (HBOS),Isolation Forest, K Nearest Neighbors (KNN),Local Outlier Factor (LOF)）。\n",
    "#### 2.2 对于wine数据集中所有的benchmarks数据按照训练集：测试集 = 0.6：0.4的划分方式逐一进行训练。\n",
    "#### 2.3 将测试结果：roc和precision @ rank n存储再result中，后续进行分析。\n",
    "### 注意\n",
    "由于部分数据集中异常值分布极度不均匀，由此计算出的roc和precision @ rank n值过于低，因此此类数据按照异常状况处理，不再计入最终结果。"
   ]
  },
  {
   "cell_type": "code",
   "execution_count": 2,
   "metadata": {},
   "outputs": [],
   "source": [
    "Folder_Path = r'D:\\python\\data\\wine_benchmarks'      \n",
    "classifiers = {\n",
    "        'Feature Bagging': FeatureBagging(),\n",
    "        'Histogram-base Outlier Detection (HBOS)': HBOS(),\n",
    "        'Isolation Forest': IForest(),\n",
    "        'K Nearest Neighbors (KNN)': KNN(),\n",
    "        'Local Outlier Factor (LOF)': LOF()\n",
    "    }\n",
    "result_roc = pd.DataFrame(data=None,columns=['Feature Bagging','Histogram-base Outlier Detection (HBOS)','Isolation Forest', \n",
    "                                             'K Nearest Neighbors (KNN)', 'Local Outlier Factor (LOF)'],index = range(1210))\n",
    "result_rank_n = pd.DataFrame(data=None,columns=['Feature Bagging','Histogram-base Outlier Detection (HBOS)','Isolation Forest', \n",
    "                                             'K Nearest Neighbors (KNN)', 'Local Outlier Factor (LOF)'],index = range(1210))\n",
    "for m in range(1210):\n",
    "    os.chdir(Folder_Path)\n",
    "    file_list = os.listdir()\n",
    "    fill_df = pd.read_csv(Folder_Path +'\\\\'+ file_list[m])  \n",
    "    quant_cols = list(fill_df.select_dtypes(include=['int64','float64']))\n",
    "    quant_cols = [x for x in quant_cols if x == 'fixed.acidity' or x == 'volatile.acidity' or x == 'citric.acid' or\n",
    "                 x == 'residual.sugar' or x == 'chlorides' or x == 'free.sulfur.dioxide' or x == 'total.sulfur.dioxide'\n",
    "                 or x == 'density' or x == 'pH' or x == 'sulphates' or x == 'alcohol']\n",
    "    X = fill_df[quant_cols]\n",
    "    fill_df['label'] = 'NA'\n",
    "    for i in range(len(fill_df)):\n",
    "        if fill_df['ground.truth'][i] == 'anomaly':\n",
    "            fill_df['label'][i] = 1\n",
    "        elif fill_df['ground.truth'][i] == 'nominal':\n",
    "            fill_df['label'][i] = 0\n",
    "    Y = pd.DataFrame(fill_df['label'],dtype=np.int)\n",
    "    X_train,X_test,y_train,y_test= train_test_split(X, Y, test_size=0.4)\n",
    "    p = y_train.max()\n",
    "    q = y_test.max()\n",
    "    if p[0] == 0 or q[0] == 0:\n",
    "        continue\n",
    "    for clf_name, clf in classifiers.items():\n",
    "        clf.fit(X_train)\n",
    "        y_train_pred = clf.labels_  \n",
    "        y_train_scores = clf.decision_scores_  \n",
    "        \n",
    "        y_test_pred = clf.predict(X_test) \n",
    "        y_test_scores = clf.decision_function(X_test)  \n",
    "        roc = round(roc_auc_score(y_test, y_test_scores), ndigits=4)\n",
    "        prn = round(precision_n_scores(y_test, y_test_scores), ndigits=4)\n",
    "        if roc > 0.1:\n",
    "            result_roc[clf_name][m] = roc\n",
    "        if prn > 0.1:\n",
    "            result_rank_n[clf_name][m] = prn"
   ]
  },
  {
   "cell_type": "markdown",
   "metadata": {},
   "source": [
    "### 3 测试结果\n",
    "3.1 五种训练方式对应的roc值"
   ]
  },
  {
   "cell_type": "code",
   "execution_count": 3,
   "metadata": {},
   "outputs": [
    {
     "data": {
      "text/html": [
       "<div>\n",
       "<style scoped>\n",
       "    .dataframe tbody tr th:only-of-type {\n",
       "        vertical-align: middle;\n",
       "    }\n",
       "\n",
       "    .dataframe tbody tr th {\n",
       "        vertical-align: top;\n",
       "    }\n",
       "\n",
       "    .dataframe thead th {\n",
       "        text-align: right;\n",
       "    }\n",
       "</style>\n",
       "<table border=\"1\" class=\"dataframe\">\n",
       "  <thead>\n",
       "    <tr style=\"text-align: right;\">\n",
       "      <th></th>\n",
       "      <th>Feature Bagging</th>\n",
       "      <th>Histogram-base Outlier Detection (HBOS)</th>\n",
       "      <th>Isolation Forest</th>\n",
       "      <th>K Nearest Neighbors (KNN)</th>\n",
       "      <th>Local Outlier Factor (LOF)</th>\n",
       "    </tr>\n",
       "  </thead>\n",
       "  <tbody>\n",
       "    <tr>\n",
       "      <th>0</th>\n",
       "      <td>0.5678</td>\n",
       "      <td>0.5514</td>\n",
       "      <td>0.5522</td>\n",
       "      <td>0.5641</td>\n",
       "      <td>0.5606</td>\n",
       "    </tr>\n",
       "    <tr>\n",
       "      <th>1</th>\n",
       "      <td>0.5573</td>\n",
       "      <td>0.5133</td>\n",
       "      <td>0.5217</td>\n",
       "      <td>0.5411</td>\n",
       "      <td>0.5592</td>\n",
       "    </tr>\n",
       "    <tr>\n",
       "      <th>2</th>\n",
       "      <td>0.5734</td>\n",
       "      <td>0.5388</td>\n",
       "      <td>0.5181</td>\n",
       "      <td>0.5802</td>\n",
       "      <td>0.5608</td>\n",
       "    </tr>\n",
       "    <tr>\n",
       "      <th>3</th>\n",
       "      <td>0.5581</td>\n",
       "      <td>0.5501</td>\n",
       "      <td>0.5399</td>\n",
       "      <td>0.5536</td>\n",
       "      <td>0.5497</td>\n",
       "    </tr>\n",
       "    <tr>\n",
       "      <th>4</th>\n",
       "      <td>0.5633</td>\n",
       "      <td>0.5534</td>\n",
       "      <td>0.5393</td>\n",
       "      <td>0.5586</td>\n",
       "      <td>0.5653</td>\n",
       "    </tr>\n",
       "  </tbody>\n",
       "</table>\n",
       "</div>"
      ],
      "text/plain": [
       "  Feature Bagging Histogram-base Outlier Detection (HBOS) Isolation Forest  \\\n",
       "0          0.5678                                  0.5514           0.5522   \n",
       "1          0.5573                                  0.5133           0.5217   \n",
       "2          0.5734                                  0.5388           0.5181   \n",
       "3          0.5581                                  0.5501           0.5399   \n",
       "4          0.5633                                  0.5534           0.5393   \n",
       "\n",
       "  K Nearest Neighbors (KNN) Local Outlier Factor (LOF)  \n",
       "0                    0.5641                     0.5606  \n",
       "1                    0.5411                     0.5592  \n",
       "2                    0.5802                     0.5608  \n",
       "3                    0.5536                     0.5497  \n",
       "4                    0.5586                     0.5653  "
      ]
     },
     "execution_count": 3,
     "metadata": {},
     "output_type": "execute_result"
    }
   ],
   "source": [
    "result_roc.head()"
   ]
  },
  {
   "cell_type": "markdown",
   "metadata": {},
   "source": [
    "3.2 五种训练方式对应的precision @ rank n值"
   ]
  },
  {
   "cell_type": "code",
   "execution_count": 4,
   "metadata": {},
   "outputs": [
    {
     "data": {
      "text/html": [
       "<div>\n",
       "<style scoped>\n",
       "    .dataframe tbody tr th:only-of-type {\n",
       "        vertical-align: middle;\n",
       "    }\n",
       "\n",
       "    .dataframe tbody tr th {\n",
       "        vertical-align: top;\n",
       "    }\n",
       "\n",
       "    .dataframe thead th {\n",
       "        text-align: right;\n",
       "    }\n",
       "</style>\n",
       "<table border=\"1\" class=\"dataframe\">\n",
       "  <thead>\n",
       "    <tr style=\"text-align: right;\">\n",
       "      <th></th>\n",
       "      <th>Feature Bagging</th>\n",
       "      <th>Histogram-base Outlier Detection (HBOS)</th>\n",
       "      <th>Isolation Forest</th>\n",
       "      <th>K Nearest Neighbors (KNN)</th>\n",
       "      <th>Local Outlier Factor (LOF)</th>\n",
       "    </tr>\n",
       "  </thead>\n",
       "  <tbody>\n",
       "    <tr>\n",
       "      <th>0</th>\n",
       "      <td>0.4401</td>\n",
       "      <td>0.4347</td>\n",
       "      <td>0.4383</td>\n",
       "      <td>0.4347</td>\n",
       "      <td>0.448</td>\n",
       "    </tr>\n",
       "    <tr>\n",
       "      <th>1</th>\n",
       "      <td>0.3977</td>\n",
       "      <td>0.3633</td>\n",
       "      <td>0.3748</td>\n",
       "      <td>0.3862</td>\n",
       "      <td>0.4015</td>\n",
       "    </tr>\n",
       "    <tr>\n",
       "      <th>2</th>\n",
       "      <td>0.4345</td>\n",
       "      <td>0.3959</td>\n",
       "      <td>0.3783</td>\n",
       "      <td>0.427</td>\n",
       "      <td>0.412</td>\n",
       "    </tr>\n",
       "    <tr>\n",
       "      <th>3</th>\n",
       "      <td>0.413</td>\n",
       "      <td>0.4167</td>\n",
       "      <td>0.3963</td>\n",
       "      <td>0.4167</td>\n",
       "      <td>0.4093</td>\n",
       "    </tr>\n",
       "    <tr>\n",
       "      <th>4</th>\n",
       "      <td>0.4084</td>\n",
       "      <td>0.4065</td>\n",
       "      <td>0.3874</td>\n",
       "      <td>0.4256</td>\n",
       "      <td>0.4065</td>\n",
       "    </tr>\n",
       "  </tbody>\n",
       "</table>\n",
       "</div>"
      ],
      "text/plain": [
       "  Feature Bagging Histogram-base Outlier Detection (HBOS) Isolation Forest  \\\n",
       "0          0.4401                                  0.4347           0.4383   \n",
       "1          0.3977                                  0.3633           0.3748   \n",
       "2          0.4345                                  0.3959           0.3783   \n",
       "3           0.413                                  0.4167           0.3963   \n",
       "4          0.4084                                  0.4065           0.3874   \n",
       "\n",
       "  K Nearest Neighbors (KNN) Local Outlier Factor (LOF)  \n",
       "0                    0.4347                      0.448  \n",
       "1                    0.3862                     0.4015  \n",
       "2                     0.427                      0.412  \n",
       "3                    0.4167                     0.4093  \n",
       "4                    0.4256                     0.4065  "
      ]
     },
     "execution_count": 4,
     "metadata": {},
     "output_type": "execute_result"
    }
   ],
   "source": [
    "result_rank_n.head()"
   ]
  },
  {
   "cell_type": "markdown",
   "metadata": {},
   "source": [
    "### 4 评价\n",
    "对1210个benchmarks数据测试得到的roc和precision @ rank n值取平均（考虑在不同数据情况下，该方法的性能如何）。\n",
    "综合比较发现，KNN的处理效果更好一点，该方法下得到的roc和precision @ rank n值都较高。但是五种方式下的precision @ rank n值都普遍较低，可能是由于数据集中异常值个数占比较小所致。"
   ]
  },
  {
   "cell_type": "code",
   "execution_count": 5,
   "metadata": {},
   "outputs": [
    {
     "data": {
      "text/plain": [
       "Feature Bagging                            0.597053\n",
       "Histogram-base Outlier Detection (HBOS)    0.583645\n",
       "Isolation Forest                           0.586392\n",
       "K Nearest Neighbors (KNN)                  0.601155\n",
       "Local Outlier Factor (LOF)                 0.591922\n",
       "dtype: float64"
      ]
     },
     "execution_count": 5,
     "metadata": {},
     "output_type": "execute_result"
    }
   ],
   "source": [
    "roc = pd.DataFrame(result_roc,dtype=np.float)\n",
    "roc.mean()                        "
   ]
  },
  {
   "cell_type": "code",
   "execution_count": 6,
   "metadata": {},
   "outputs": [
    {
     "data": {
      "text/plain": [
       "Feature Bagging                            0.302518\n",
       "Histogram-base Outlier Detection (HBOS)    0.318407\n",
       "Isolation Forest                           0.308672\n",
       "K Nearest Neighbors (KNN)                  0.306156\n",
       "Local Outlier Factor (LOF)                 0.308056\n",
       "dtype: float64"
      ]
     },
     "execution_count": 6,
     "metadata": {},
     "output_type": "execute_result"
    }
   ],
   "source": [
    "rank_n = pd.DataFrame(result_rank_n,dtype=np.float)\n",
    "rank_n.mean()"
   ]
  },
  {
   "cell_type": "markdown",
   "metadata": {},
   "source": [
    "将五种方法得到的测试结果绘制直方图"
   ]
  },
  {
   "cell_type": "code",
   "execution_count": 7,
   "metadata": {},
   "outputs": [
    {
     "data": {
      "text/plain": [
       "<matplotlib.axes._subplots.AxesSubplot at 0x1a3358fa908>"
      ]
     },
     "execution_count": 7,
     "metadata": {},
     "output_type": "execute_result"
    },
    {
     "data": {
      "image/png": "[encoded data removed]",
      "text/plain": [
       "<Figure size 1152x576 with 10 Axes>"
      ]
     },
     "metadata": {
      "needs_background": "light"
     },
     "output_type": "display_data"
    }
   ],
   "source": [
    "plt.figure(figsize=(16, 8))\n",
    "#直方图\n",
    "plt.subplot(2,5,1)\n",
    "plt.title(\"Feature Bagging roc\")\n",
    "roc['Feature Bagging'].hist(alpha=0.5,bins=15)\n",
    "plt.subplot(2,5,2)\n",
    "plt.title(\"HBOS roc\")\n",
    "roc['Histogram-base Outlier Detection (HBOS)'].hist(alpha=0.5,bins=15)\n",
    "plt.subplot(2,5,3)\n",
    "plt.title(\"Isolation Forest roc\")\n",
    "roc['Isolation Forest'].hist(alpha=0.5,bins=15)\n",
    "plt.subplot(2,5,4)\n",
    "plt.title(\"KNN roc\")\n",
    "roc['K Nearest Neighbors (KNN)'].hist(alpha=0.5,bins=15)\n",
    "plt.subplot(2,5,5)\n",
    "plt.title(\"LOF roc\")\n",
    "roc['Local Outlier Factor (LOF)'].hist(alpha=0.5,bins=15)\n",
    "\n",
    "plt.subplot(2,5,6)\n",
    "plt.title(\"Feature Bagging prn\")\n",
    "rank_n['Feature Bagging'].hist(alpha=0.5,bins=15)\n",
    "plt.subplot(2,5,7)\n",
    "plt.title(\"HOBS prn\")\n",
    "rank_n['Histogram-base Outlier Detection (HBOS)'].hist(alpha=0.5,bins=15)\n",
    "plt.subplot(2,5,8)\n",
    "plt.title(\"Isolation Forest prn\")\n",
    "rank_n['Isolation Forest'].hist(alpha=0.5,bins=15)\n",
    "plt.subplot(2,5,9)\n",
    "plt.title(\"KNN prn\")\n",
    "rank_n['K Nearest Neighbors (KNN)'].hist(alpha=0.5,bins=15)\n",
    "plt.subplot(2,5,10)\n",
    "plt.title(\"LOF prn\")\n",
    "rank_n['Local Outlier Factor (LOF)'].hist(alpha=0.5,bins=15)"
   ]
  }
 ],
 "metadata": {
  "kernelspec": {
   "display_name": "Python 3",
   "language": "python",
   "name": "python3"
  },
  "language_info": {
   "codemirror_mode": {
    "name": "ipython",
    "version": 3
   },
   "file_extension": ".py",
   "mimetype": "text/x-python",
   "name": "python",
   "nbconvert_exporter": "python",
   "pygments_lexer": "ipython3",
   "version": "3.7.4"
  }
 },
 "nbformat": 4,
 "nbformat_minor": 4
}
